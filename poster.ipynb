{
 "cells": [
  {
   "cell_type": "markdown",
   "metadata": {},
   "source": [
    "## Background\n",
    "\n",
    "This is a data analysis for \n",
    "\"Anxiety and Depression Rates Between Women with and without Endometriosis\" \n",
    "presented in a 2023 poster section for CENTER FOR RESEARCH IN WOMEN’S HEALTH at Cedars Sinai"
   ]
  },
  {
   "cell_type": "code",
   "execution_count": 282,
   "metadata": {},
   "outputs": [],
   "source": [
    "import seaborn as sns\n",
    "import util\n",
    "import pandas as pd\n",
    "import numpy as np\n",
    "import re\n",
    "from pathlib import Path\n",
    "from statannotations.Annotator import Annotator\n",
    "from upsetplot import UpSet,from_memberships\n"
   ]
  },
  {
   "cell_type": "markdown",
   "metadata": {},
   "source": [
    "## Data Import from RedCap API"
   ]
  },
  {
   "cell_type": "code",
   "execution_count": 322,
   "metadata": {},
   "outputs": [],
   "source": [
    "project_name = \"poster\"\n",
    "config_json = util.get_config_json(project_name)\n",
    "table_df = util.get_data(config_json)\n",
    "table_df = table_df.apply(pd.to_numeric, downcast=\"integer\", errors=\"ignore\").fillna(0)\n",
    "data_df = util.get_data_dict()"
   ]
  },
  {
   "cell_type": "markdown",
   "metadata": {},
   "source": [
    "## Extract and Recode RedCap Variables for Downstream Analysis "
   ]
  },
  {
   "cell_type": "code",
   "execution_count": 323,
   "metadata": {},
   "outputs": [],
   "source": [
    "type_detail_map = {1:\"confirmed\",\n",
    "                   2:\"confirmed\",\n",
    "                   3:\"suspected\",\n",
    "                   4:\"not found\"}\n",
    "table_df = (\n",
    "    table_df.assign(type_detail=table_df.type_detail.map(type_detail_map))\n",
    "    .assign(self_anxiety=np.where(table_df.mh_4_1 == 2, \"Yes\", \"No\"))\n",
    "    .assign(self_depression=np.where(table_df.mh_4_7 == 2, \"Yes\", \"No\"))\n",
    "    .assign(chart_anxiety=np.where(table_df.anxiety_depression___1 == 1,\"Yes\",\"No\"))\n",
    "    .assign(chart_depression=np.where(table_df.anxiety_depression___2 == 1,\"Yes\",\"No\"))\n",
    "    .filter(['type_detail','self_anxiety','self_depression','chart_anxiety','chart_depression'])\n",
    ")\n",
    "\n"
   ]
  },
  {
   "cell_type": "markdown",
   "metadata": {},
   "source": [
    "## Sumamry Table \n",
    "\n",
    "This summary of anxiety and depression responses obtained from self-reported and chart review \n"   
   ]
  },
  {
   "cell_type": "code",
   "execution_count": 233,
   "metadata": {},
   "outputs": [
    {
     "data": {
      "text/html": [
       "<div>\n",
       "<style scoped>\n",
       "    .dataframe tbody tr th:only-of-type {\n",
       "        vertical-align: middle;\n",
       "    }\n",
       "\n",
       "    .dataframe tbody tr th {\n",
       "        vertical-align: top;\n",
       "    }\n",
       "\n",
       "    .dataframe thead tr th {\n",
       "        text-align: left;\n",
       "    }\n",
       "\n",
       "    .dataframe thead tr:last-of-type th {\n",
       "        text-align: right;\n",
       "    }\n",
       "</style>\n",
       "<table border=\"1\" class=\"dataframe\">\n",
       "  <thead>\n",
       "    <tr>\n",
       "      <th>type</th>\n",
       "      <th colspan=\"2\" halign=\"left\">chart_anxiety</th>\n",
       "      <th colspan=\"2\" halign=\"left\">chart_depression</th>\n",
       "      <th colspan=\"2\" halign=\"left\">self_anxiety</th>\n",
       "      <th colspan=\"2\" halign=\"left\">self_depression</th>\n",
       "    </tr>\n",
       "    <tr>\n",
       "      <th>response</th>\n",
       "      <th>No</th>\n",
       "      <th>Yes</th>\n",
       "      <th>No</th>\n",
       "      <th>Yes</th>\n",
       "      <th>No</th>\n",
       "      <th>Yes</th>\n",
       "      <th>No</th>\n",
       "      <th>Yes</th>\n",
       "    </tr>\n",
       "    <tr>\n",
       "      <th>type_detail</th>\n",
       "      <th></th>\n",
       "      <th></th>\n",
       "      <th></th>\n",
       "      <th></th>\n",
       "      <th></th>\n",
       "      <th></th>\n",
       "      <th></th>\n",
       "      <th></th>\n",
       "    </tr>\n",
       "  </thead>\n",
       "  <tbody>\n",
       "    <tr>\n",
       "      <th>confirmed</th>\n",
       "      <td>226</td>\n",
       "      <td>192</td>\n",
       "      <td>286</td>\n",
       "      <td>132</td>\n",
       "      <td>276</td>\n",
       "      <td>142</td>\n",
       "      <td>240</td>\n",
       "      <td>178</td>\n",
       "    </tr>\n",
       "    <tr>\n",
       "      <th>not found</th>\n",
       "      <td>95</td>\n",
       "      <td>39</td>\n",
       "      <td>109</td>\n",
       "      <td>25</td>\n",
       "      <td>83</td>\n",
       "      <td>51</td>\n",
       "      <td>76</td>\n",
       "      <td>58</td>\n",
       "    </tr>\n",
       "    <tr>\n",
       "      <th>suspected</th>\n",
       "      <td>34</td>\n",
       "      <td>26</td>\n",
       "      <td>39</td>\n",
       "      <td>21</td>\n",
       "      <td>42</td>\n",
       "      <td>18</td>\n",
       "      <td>42</td>\n",
       "      <td>18</td>\n",
       "    </tr>\n",
       "    <tr>\n",
       "      <th>Grand Total</th>\n",
       "      <td>355</td>\n",
       "      <td>257</td>\n",
       "      <td>434</td>\n",
       "      <td>178</td>\n",
       "      <td>401</td>\n",
       "      <td>211</td>\n",
       "      <td>358</td>\n",
       "      <td>254</td>\n",
       "    </tr>\n",
       "  </tbody>\n",
       "</table>\n",
       "</div>"
      ],
      "text/plain": [
       "type        chart_anxiety      chart_depression      self_anxiety       \\\n",
       "response               No  Yes               No  Yes           No  Yes   \n",
       "type_detail                                                              \n",
       "confirmed             226  192              286  132          276  142   \n",
       "not found              95   39              109   25           83   51   \n",
       "suspected              34   26               39   21           42   18   \n",
       "Grand Total           355  257              434  178          401  211   \n",
       "\n",
       "type        self_depression       \n",
       "response                 No  Yes  \n",
       "type_detail                       \n",
       "confirmed               240  178  \n",
       "not found                76   58  \n",
       "suspected                42   18  \n",
       "Grand Total             358  254  "
      ]
     },
     "execution_count": 233,
     "metadata": {},
     "output_type": "execute_result"
    }
   ],
   "source": [
    "table_df = table_df.pipe(\n",
    "    pd.melt, id_vars=\"type_detail\", var_name=\"type\", value_name=\"response\"\n",
    ")\n",
    "table_df.pipe(\n",
    "    pd.pivot_table,\n",
    "    columns=[\"type\", \"response\"],\n",
    "    index=[\"type_detail\"],\n",
    "    aggfunc=len,\n",
    "    margins=True,\n",
    "    margins_name=\"Grand Total\",\n",
    ").iloc[:, :-1]"
   ]
  },
  {
   "cell_type": "code",
   "execution_count": 268,
   "metadata": {},
   "outputs": [
    {
     "name": "stdout",
     "output_type": "stream",
     "text": [
      "p-value annotation legend:\n",
      "      ns: 5.00e-02 < p <= 1.00e+00\n",
      "       *: 1.00e-02 < p <= 5.00e-02\n",
      "      **: 1.00e-03 < p <= 1.00e-02\n",
      "     ***: 1.00e-04 < p <= 1.00e-03\n",
      "    ****: p <= 1.00e-04\n",
      "\n",
      "confirmed vs. not found: t-test independent samples, P_val:3.667e-01 t=9.761e-01\n",
      "not found vs. suspected: t-test independent samples, P_val:7.247e-01 t=-3.691e-01\n",
      "confirmed vs. suspected: t-test independent samples, P_val:4.297e-01 t=8.465e-01\n"
     ]
    },
    {
     "data": {
      "text/plain": [
       "(<matplotlib.axes._subplots.AxesSubplot at 0x7f25d33259d0>,\n",
       " [<statannotations.Annotation.Annotation at 0x7f25ec3bfed0>,\n",
       "  <statannotations.Annotation.Annotation at 0x7f25eb17d890>,\n",
       "  <statannotations.Annotation.Annotation at 0x7f25eb8ee490>])"
      ]
     },
     "execution_count": 268,
     "metadata": {},
     "output_type": "execute_result"
    },
    {
     "data": {
      "image/png": "[encoded data removed]",
      "text/plain": [
       "<Figure size 432x288 with 1 Axes>"
      ]
     },
     "metadata": {
      "needs_background": "light"
     },
     "output_type": "display_data"
    }
   ],
   "source": [
    "plot_df = (\n",
    "    table_df\n",
    "    .groupby([\"type_detail\", \"type\"])[\"response\"]\n",
    "    .value_counts(normalize=True)\n",
    "    .unstack()\n",
    "    .drop(\"No\", axis=1)\n",
    "    .reset_index()\n",
    ")\n",
    "\n",
    "ax=sns.barplot(data=plot_df, x=\"type_detail\", y=\"Yes\",order=[\"confirmed\",\"suspected\",\"not found\"],palette=\"Set2\")\n",
    "ann=Annotator(\n",
    "            ax, \n",
    "            pairs=[(\"confirmed\",\"not found\"),(\"confirmed\",\"suspected\"),(\"suspected\",\"not found\")],\n",
    "            data=plot_df,\n",
    "            x=\"type_detail\",\n",
    "            y=\"Yes\"\n",
    "        )\n",
    "ann.configure(test='t-test_ind', text_format='star',loc='inside').apply_and_annotate()\n",
    "            \n"
   ]
  },
  {
   "cell_type": "markdown",
   "metadata": {},
   "source": [
    "## Breakdown of Anxiety and Depression "
   ]
  },
  {
   "cell_type": "code",
   "execution_count": 266,
   "metadata": {},
   "outputs": [
    {
     "data": {
      "text/plain": [
       "<seaborn.axisgrid.FacetGrid at 0x7f25ec095f90>"
      ]
     },
     "execution_count": 266,
     "metadata": {},
     "output_type": "execute_result"
    },
    {
     "data": {
      "image/png": "[encoded data removed]",
      "text/plain": [
       "<Figure size 864x216 with 4 Axes>"
      ]
     },
     "metadata": {
      "needs_background": "light"
     },
     "output_type": "display_data"
    }
   ],
   "source": [
    "plot = sns.FacetGrid(plot_df, col=\"type\")\n",
    "plot.map_dataframe(\n",
    "    sns.barplot,\n",
    "    x=\"type_detail\",\n",
    "    y=\"Yes\",\n",
    "    hue=\"type_detail\",\n",
    "    palette=\"Set2\",\n",
    "    order=[\"confirmed\", \"suspected\", \"not found\"],\n",
    "    dodge=False,\n",
    ")\n",
    "plot.set_titles(\"{col_name}\")\n",
    "plot.set_xlabels(\"\")"
   ]
  },
  {
   "cell_type": "markdown",
   "metadata": {},
   "source": [
    "Combined both patients with confirmed and suspected endometriosis as one group to compare with control"
   ]
  },
  {
   "cell_type": "code",
   "execution_count": 267,
   "metadata": {},
   "outputs": [
    {
     "data": {
      "text/plain": [
       "<seaborn.axisgrid.FacetGrid at 0x7f25edb208d0>"
      ]
     },
     "execution_count": 267,
     "metadata": {},
     "output_type": "execute_result"
    },
    {
     "data": {
      "image/png": "[encoded data removed]",
      "text/plain": [
       "<Figure size 864x216 with 4 Axes>"
      ]
     },
     "metadata": {
      "needs_background": "light"
     },
     "output_type": "display_data"
    }
   ],
   "source": [
    "plot_df = (\n",
    "    table_df.assign(\n",
    "        type_detail=np.where(\n",
    "            table_df.type_detail.str.match(\"confirmed|suspect\"),\n",
    "            \"endometriosis\",\n",
    "            \"not found\",\n",
    "        )\n",
    "    )\n",
    "    .groupby([\"type_detail\", \"type\"])[\"response\"]\n",
    "    .value_counts(normalize=True)\n",
    "    .unstack()\n",
    "    .drop(\"No\", axis=1)\n",
    "    .reset_index()\n",
    ")\n",
    "\n",
    "\n",
    "plot = sns.FacetGrid(plot_df, col=\"type\")\n",
    "plot.map_dataframe(\n",
    "    sns.barplot,\n",
    "    x=\"type_detail\",\n",
    "    y=\"Yes\",\n",
    "    hue=\"type_detail\",\n",
    "    palette=\"Set2\",\n",
    "    order=[\"endometriosis\", \"not found\"],\n",
    "    dodge=False,\n",
    ")\n",
    "plot.set_titles(\"{col_name}\")\n",
    "plot.set_xlabels(\"\")"
   ]
  },
  {
   "cell_type": "markdown",
   "metadata": {},
   "source": [
    "## Comparison between self-report and chart review \n",
    "There is a discrepancy between self-report and chart review anxiety/depression. Particularly, 153 patients self-report to have both anxiety and depression but not found in their medical charts. It highlights the need to differentiate the source of the data which may lead to a different conclusion. Further studies are need to examine and address the discrepancy      "
   ]
  },
  {
   "cell_type": "code",
   "execution_count": 324,
   "metadata": {},
   "outputs": [
    {
     "data": {
      "text/plain": [
       "{'matrix': <matplotlib.axes._subplots.AxesSubplot at 0x7f25d2d05810>,\n",
       " 'shading': <matplotlib.axes._subplots.AxesSubplot at 0x7f25ec526ed0>,\n",
       " 'totals': <matplotlib.axes._subplots.AxesSubplot at 0x7f25ecf2c6d0>,\n",
       " 'intersections': <matplotlib.axes._subplots.AxesSubplot at 0x7f25d2d4fe50>}"
      ]
     },
     "execution_count": 324,
     "metadata": {},
     "output_type": "execute_result"
    },
    {
     "data": {
      "image/png": "[encoded data removed]",
      "text/plain": [
       "<Figure size 672x320 with 4 Axes>"
      ]
     },
     "metadata": {
      "needs_background": "light"
     },
     "output_type": "display_data"
    }
   ],
   "source": [
    "table_df[[\"self_anxiety\", \"self_depression\", \"chart_anxiety\", \"chart_depression\"]] = (\n",
    "    table_df[\n",
    "        [\"self_anxiety\", \"self_depression\", \"chart_anxiety\", \"chart_depression\"]\n",
    "    ].applymap(lambda x: True if x == \"Yes\" else False)\n",
    ")\n",
    "up_plot = table_df.groupby(\n",
    "    [\"self_anxiety\", \"self_depression\", \"chart_anxiety\", \"chart_depression\"]\n",
    ").size()\n",
    "\n",
    "UpSet(up_plot, sort_by=\"cardinality\", sort_categories_by=\"input\").plot()\n",
    "# from_memberships(table_df)"
   ]
  }
 ],
 "metadata": {
  "kernelspec": {
   "display_name": "Python 3",
   "language": "python",
   "name": "python3"
  },
  "language_info": {
   "codemirror_mode": {
    "name": "ipython",
    "version": 3
   },
   "file_extension": ".py",
   "mimetype": "text/x-python",
   "name": "python",
   "nbconvert_exporter": "python",
   "pygments_lexer": "ipython3",
   "version": "3.7.11"
  },
  "orig_nbformat": 4
 },
 "nbformat": 4,
 "nbformat_minor": 2
}
